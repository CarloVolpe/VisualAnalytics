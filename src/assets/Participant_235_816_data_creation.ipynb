{
 "cells": [
  {
   "cell_type": "code",
   "execution_count": 1,
   "metadata": {},
   "outputs": [],
   "source": [
    "import os\n",
    "import pandas as pd\n",
    "import numpy as np"
   ]
  },
  {
   "cell_type": "code",
   "execution_count": 2,
   "metadata": {},
   "outputs": [],
   "source": [
    "folder_path = 'C:/Users/Enrico/Desktop/Datasets/Activity Logs'\n",
    "\n",
    "dfs = []\n",
    "\n",
    "for file_name in os.listdir(folder_path):\n",
    "    if file_name.endswith(\".csv\"):\n",
    "        file_path = os.path.join(folder_path, file_name)\n",
    "        \n",
    "        # Loading the CSV file into a DataFrame\n",
    "        df = pd.read_csv(file_path)\n",
    "        \n",
    "        # Adding the DataFrame to the list\n",
    "        dfs.append(df)"
   ]
  },
  {
   "cell_type": "code",
   "execution_count": 3,
   "metadata": {},
   "outputs": [
    {
     "name": "stdout",
     "output_type": "stream",
     "text": [
      "<class 'pandas.core.frame.DataFrame'>\n",
      "RangeIndex: 113923735 entries, 0 to 113923734\n",
      "Data columns (total 12 columns):\n",
      " #   Column             Dtype  \n",
      "---  ------             -----  \n",
      " 0   timestamp          object \n",
      " 1   currentLocation    object \n",
      " 2   participantId      float64\n",
      " 3   currentMode        object \n",
      " 4   hungerStatus       object \n",
      " 5   sleepStatus        object \n",
      " 6   apartmentId        float64\n",
      " 7   availableBalance   float64\n",
      " 8   jobId              float64\n",
      " 9   financialStatus    object \n",
      " 10  dailyFoodBudget    float64\n",
      " 11  weeklyExtraBudget  float64\n",
      "dtypes: float64(6), object(6)\n",
      "memory usage: 10.2+ GB\n"
     ]
    }
   ],
   "source": [
    "merged_df = pd.concat(dfs, ignore_index=True)\n",
    "merged_df.info()"
   ]
  },
  {
   "cell_type": "code",
   "execution_count": null,
   "metadata": {},
   "outputs": [],
   "source": []
  },
  {
   "cell_type": "code",
   "execution_count": 4,
   "metadata": {},
   "outputs": [
    {
     "name": "stdout",
     "output_type": "stream",
     "text": [
      "<class 'pandas.core.frame.DataFrame'>\n",
      "RangeIndex: 113923735 entries, 0 to 113923734\n",
      "Data columns (total 12 columns):\n",
      " #   Column             Dtype  \n",
      "---  ------             -----  \n",
      " 0   timestamp          object \n",
      " 1   currentLocation    object \n",
      " 2   participantId      float64\n",
      " 3   currentMode        object \n",
      " 4   hungerStatus       object \n",
      " 5   sleepStatus        object \n",
      " 6   apartmentId        float64\n",
      " 7   availableBalance   float64\n",
      " 8   jobId              float64\n",
      " 9   financialStatus    object \n",
      " 10  dailyFoodBudget    float64\n",
      " 11  weeklyExtraBudget  float64\n",
      "dtypes: float64(6), object(6)\n",
      "memory usage: 10.2+ GB\n"
     ]
    }
   ],
   "source": [
    "activity_logs_df = merged_df\n",
    "activity_logs_df.info()"
   ]
  },
  {
   "cell_type": "code",
   "execution_count": null,
   "metadata": {},
   "outputs": [],
   "source": []
  },
  {
   "cell_type": "code",
   "execution_count": 8,
   "metadata": {},
   "outputs": [
    {
     "data": {
      "text/plain": [
       "array(['Stable', 'Unstable', 'Unknown', nan], dtype=object)"
      ]
     },
     "execution_count": 8,
     "metadata": {},
     "output_type": "execute_result"
    }
   ],
   "source": [
    "activity_logs_df[\"financialStatus\"].unique()"
   ]
  },
  {
   "cell_type": "code",
   "execution_count": 5,
   "metadata": {},
   "outputs": [
    {
     "data": {
      "text/plain": [
       "array(['AtHome', 'Transport', 'AtRecreation', 'AtRestaurant', 'AtWork',\n",
       "       nan], dtype=object)"
      ]
     },
     "execution_count": 5,
     "metadata": {},
     "output_type": "execute_result"
    }
   ],
   "source": [
    "activity_logs_df[\"currentMode\"].unique()"
   ]
  },
  {
   "cell_type": "code",
   "execution_count": 6,
   "metadata": {},
   "outputs": [
    {
     "data": {
      "text/plain": [
       "AtHome          69236289\n",
       "AtWork          27239602\n",
       "Transport       10246066\n",
       "AtRecreation     5436347\n",
       "AtRestaurant     1765430\n",
       "Name: currentMode, dtype: int64"
      ]
     },
     "execution_count": 6,
     "metadata": {},
     "output_type": "execute_result"
    }
   ],
   "source": [
    "activity_logs_df[\"currentMode\"].value_counts()"
   ]
  },
  {
   "cell_type": "code",
   "execution_count": 7,
   "metadata": {},
   "outputs": [],
   "source": [
    "# Pivot della tabella per ottenere le frequenze delle attività per ogni participantId\n",
    "df_pivot = activity_logs_df.pivot_table(index='participantId', columns='currentMode', aggfunc='size', fill_value=0)"
   ]
  },
  {
   "cell_type": "code",
   "execution_count": 8,
   "metadata": {},
   "outputs": [
    {
     "data": {
      "text/html": [
       "<div>\n",
       "<style scoped>\n",
       "    .dataframe tbody tr th:only-of-type {\n",
       "        vertical-align: middle;\n",
       "    }\n",
       "\n",
       "    .dataframe tbody tr th {\n",
       "        vertical-align: top;\n",
       "    }\n",
       "\n",
       "    .dataframe thead th {\n",
       "        text-align: right;\n",
       "    }\n",
       "</style>\n",
       "<table border=\"1\" class=\"dataframe\">\n",
       "  <thead>\n",
       "    <tr style=\"text-align: right;\">\n",
       "      <th>currentMode</th>\n",
       "      <th>AtHome</th>\n",
       "      <th>AtRecreation</th>\n",
       "      <th>AtRestaurant</th>\n",
       "      <th>AtWork</th>\n",
       "      <th>Transport</th>\n",
       "    </tr>\n",
       "    <tr>\n",
       "      <th>participantId</th>\n",
       "      <th></th>\n",
       "      <th></th>\n",
       "      <th></th>\n",
       "      <th></th>\n",
       "      <th></th>\n",
       "    </tr>\n",
       "  </thead>\n",
       "  <tbody>\n",
       "    <tr>\n",
       "      <th>0.0</th>\n",
       "      <td>70724</td>\n",
       "      <td>5665</td>\n",
       "      <td>1888</td>\n",
       "      <td>30816</td>\n",
       "      <td>20185</td>\n",
       "    </tr>\n",
       "    <tr>\n",
       "      <th>1.0</th>\n",
       "      <td>75175</td>\n",
       "      <td>8458</td>\n",
       "      <td>1324</td>\n",
       "      <td>30816</td>\n",
       "      <td>13505</td>\n",
       "    </tr>\n",
       "    <tr>\n",
       "      <th>2.0</th>\n",
       "      <td>65051</td>\n",
       "      <td>5091</td>\n",
       "      <td>1716</td>\n",
       "      <td>30816</td>\n",
       "      <td>26604</td>\n",
       "    </tr>\n",
       "    <tr>\n",
       "      <th>3.0</th>\n",
       "      <td>74014</td>\n",
       "      <td>7478</td>\n",
       "      <td>1812</td>\n",
       "      <td>30816</td>\n",
       "      <td>15158</td>\n",
       "    </tr>\n",
       "    <tr>\n",
       "      <th>4.0</th>\n",
       "      <td>77428</td>\n",
       "      <td>9350</td>\n",
       "      <td>1732</td>\n",
       "      <td>31138</td>\n",
       "      <td>9630</td>\n",
       "    </tr>\n",
       "    <tr>\n",
       "      <th>...</th>\n",
       "      <td>...</td>\n",
       "      <td>...</td>\n",
       "      <td>...</td>\n",
       "      <td>...</td>\n",
       "      <td>...</td>\n",
       "    </tr>\n",
       "    <tr>\n",
       "      <th>1006.0</th>\n",
       "      <td>79789</td>\n",
       "      <td>6102</td>\n",
       "      <td>2768</td>\n",
       "      <td>30816</td>\n",
       "      <td>9802</td>\n",
       "    </tr>\n",
       "    <tr>\n",
       "      <th>1007.0</th>\n",
       "      <td>78303</td>\n",
       "      <td>11575</td>\n",
       "      <td>2652</td>\n",
       "      <td>30816</td>\n",
       "      <td>5931</td>\n",
       "    </tr>\n",
       "    <tr>\n",
       "      <th>1008.0</th>\n",
       "      <td>80468</td>\n",
       "      <td>2798</td>\n",
       "      <td>1768</td>\n",
       "      <td>31137</td>\n",
       "      <td>13106</td>\n",
       "    </tr>\n",
       "    <tr>\n",
       "      <th>1009.0</th>\n",
       "      <td>78806</td>\n",
       "      <td>6904</td>\n",
       "      <td>2723</td>\n",
       "      <td>31137</td>\n",
       "      <td>9707</td>\n",
       "    </tr>\n",
       "    <tr>\n",
       "      <th>1010.0</th>\n",
       "      <td>74631</td>\n",
       "      <td>7491</td>\n",
       "      <td>1864</td>\n",
       "      <td>30816</td>\n",
       "      <td>14475</td>\n",
       "    </tr>\n",
       "  </tbody>\n",
       "</table>\n",
       "<p>1011 rows × 5 columns</p>\n",
       "</div>"
      ],
      "text/plain": [
       "currentMode    AtHome  AtRecreation  AtRestaurant  AtWork  Transport\n",
       "participantId                                                       \n",
       "0.0             70724          5665          1888   30816      20185\n",
       "1.0             75175          8458          1324   30816      13505\n",
       "2.0             65051          5091          1716   30816      26604\n",
       "3.0             74014          7478          1812   30816      15158\n",
       "4.0             77428          9350          1732   31138       9630\n",
       "...               ...           ...           ...     ...        ...\n",
       "1006.0          79789          6102          2768   30816       9802\n",
       "1007.0          78303         11575          2652   30816       5931\n",
       "1008.0          80468          2798          1768   31137      13106\n",
       "1009.0          78806          6904          2723   31137       9707\n",
       "1010.0          74631          7491          1864   30816      14475\n",
       "\n",
       "[1011 rows x 5 columns]"
      ]
     },
     "execution_count": 8,
     "metadata": {},
     "output_type": "execute_result"
    }
   ],
   "source": [
    "df_pivot"
   ]
  },
  {
   "cell_type": "code",
   "execution_count": 10,
   "metadata": {},
   "outputs": [
    {
     "name": "stdout",
     "output_type": "stream",
     "text": [
      "Top 10 dissimilar pairs using euclidean:\n",
      "        ParticipantId_1  ParticipantId_2  Dissimilarity\n",
      "210435              235              816  100001.283197\n",
      "210474              235              855  100000.424419\n",
      "210222              235              603   99990.608369\n",
      "133501              142              235   99990.322352\n",
      "210196              235              577   99988.591959\n",
      "210001              235              382   99983.422856\n",
      "210387              235              768   99980.355140\n",
      "210282              235              663   99978.102583\n",
      "210221              235              602   99977.387063\n",
      "210472              235              853   99974.711813 \n",
      "\n",
      "Top 10 dissimilar pairs using cityblock:\n",
      "        ParticipantId_1  ParticipantId_2  Dissimilarity\n",
      "292949              350              875       128127.0\n",
      "287307              342              541       128127.0\n",
      "287368              342              602       128127.0\n",
      "306943              372              602       128127.0\n",
      "306944              372              603       128127.0\n",
      "287343              342              577       128127.0\n",
      "287340              342              574       128127.0\n",
      "287333              342              567       128127.0\n",
      "287324              342              558       128127.0\n",
      "306958              372              617       128127.0 \n",
      "\n",
      "Top 10 dissimilar pairs using cosine:\n",
      "        ParticipantId_1  ParticipantId_2  Dissimilarity\n",
      "462089              699              750       1.000000\n",
      "383336              506              548       1.000000\n",
      "469888              725              814       1.000000\n",
      "245500              282              584       1.000000\n",
      "212179              238              241       1.000000\n",
      "193855              214              721       1.000000\n",
      "176357              192              966       1.000000\n",
      "164083              178              235       1.000000\n",
      "175595              192              204       1.000000\n",
      "64305                65              801       0.999999 \n",
      "\n"
     ]
    }
   ],
   "source": [
    "import numpy as np\n",
    "import pandas as pd\n",
    "from scipy.spatial.distance import pdist, squareform\n",
    "\n",
    "def calculate_dissimilarities(data, metric):\n",
    "    \"\"\"\n",
    "    Calcola una matrice di dissimilarità per un dato metrica.\n",
    "    \"\"\"\n",
    "    # Calcola la matrice di dissimilarità e convertila in forma quadrata\n",
    "    return squareform(pdist(data, metric=metric))\n",
    "\n",
    "def top_n_dissimilar_pairs(data, n=10):\n",
    "    \"\"\"\n",
    "    Trova le top N coppie più dissimili nel dataset usando diverse metriche di dissimilarità.\n",
    "    \"\"\"\n",
    "    metrics = ['euclidean', 'cityblock', 'cosine']\n",
    "    results = {}\n",
    "    \n",
    "    for metric in metrics:\n",
    "        # Calcola la dissimilarità\n",
    "        dissimilarity_matrix = calculate_dissimilarities(data, metric)\n",
    "        dissimilarity_df = pd.DataFrame(dissimilarity_matrix)\n",
    "        \n",
    "        # Rimuovi le coppie duplicate e auto-comparazioni\n",
    "        dissimilarity_df = dissimilarity_df.where(np.triu(np.ones(dissimilarity_df.shape), k=1).astype(bool))\n",
    "        \n",
    "        # Trasforma in un elenco di coppie dissimili\n",
    "        dissimilar_pairs = dissimilarity_df.stack().reset_index()\n",
    "        dissimilar_pairs.columns = ['ParticipantId_1', 'ParticipantId_2', 'Dissimilarity']\n",
    "        \n",
    "        # dissimilarità del coseno = 1 - similarità\n",
    "        if metric == 'cosine':\n",
    "            dissimilar_pairs['Dissimilarity'] = 1 - dissimilar_pairs['Dissimilarity']\n",
    "        \n",
    "        # Ordina le coppie per dissimilarità decrescente e seleziona le top N\n",
    "        results[metric] = dissimilar_pairs.sort_values(by='Dissimilarity', ascending=False).head(n)\n",
    "    \n",
    "    return results\n",
    "\n",
    "\n",
    "# top 10 coppie più dissimili per ogni metrica\n",
    "results = top_n_dissimilar_pairs(df_pivot, n=10)\n",
    "\n",
    "for metric, result in results.items():\n",
    "    print(f\"Top 10 dissimilar pairs using {metric}:\")\n",
    "    print(result, \"\\n\")\n"
   ]
  },
  {
   "cell_type": "code",
   "execution_count": 11,
   "metadata": {},
   "outputs": [],
   "source": [
    "from IPython.display import display\n",
    "from ipywidgets import Output\n",
    "import pandas as pd\n"
   ]
  },
  {
   "cell_type": "code",
   "execution_count": 12,
   "metadata": {},
   "outputs": [
    {
     "data": {
      "application/vnd.jupyter.widget-view+json": {
       "model_id": "d622e39052e346a6bebd7fb62ab2ef00",
       "version_major": 2,
       "version_minor": 0
      },
      "text/plain": [
       "Output(layout=Layout(height='250px'))"
      ]
     },
     "metadata": {},
     "output_type": "display_data"
    },
    {
     "data": {
      "application/vnd.jupyter.widget-view+json": {
       "model_id": "0cf22794c67241fa8b69f6ad1cd951f0",
       "version_major": 2,
       "version_minor": 0
      },
      "text/plain": [
       "Output(layout=Layout(height='250px'))"
      ]
     },
     "metadata": {},
     "output_type": "display_data"
    },
    {
     "data": {
      "application/vnd.jupyter.widget-view+json": {
       "model_id": "6e22ab8519244d4589e6d07f6320b65c",
       "version_major": 2,
       "version_minor": 0
      },
      "text/plain": [
       "Output(layout=Layout(height='250px'))"
      ]
     },
     "metadata": {},
     "output_type": "display_data"
    }
   ],
   "source": [
    "# `results` è il dizionario contenente i DataFrame delle top 10 coppie più dissimili per ogni metrica\n",
    "# results = top_n_dissimilar_pairs(data, n=10)\n",
    "\n",
    "for metric, result in results.items():\n",
    "    \n",
    "    out = Output()\n",
    "    out.layout.height = '250px'    \n",
    "    \n",
    "    with out:\n",
    "        print(f\"Top 10 dissimilar pairs using {metric}:\")\n",
    "        display(result)\n",
    "    \n",
    "    display(out)\n"
   ]
  },
  {
   "cell_type": "code",
   "execution_count": 33,
   "metadata": {},
   "outputs": [],
   "source": [
    "participant_235_816 = activity_logs_df[(activity_logs_df[\"participantId\"]==235) | (activity_logs_df[\"participantId\"]==816) ]"
   ]
  },
  {
   "cell_type": "code",
   "execution_count": 37,
   "metadata": {},
   "outputs": [
    {
     "name": "stdout",
     "output_type": "stream",
     "text": [
      "<class 'pandas.core.frame.DataFrame'>\n",
      "Int64Index: 130501 entries, 235 to 113923664\n",
      "Data columns (total 12 columns):\n",
      " #   Column             Non-Null Count   Dtype  \n",
      "---  ------             --------------   -----  \n",
      " 0   timestamp          130501 non-null  object \n",
      " 1   currentLocation    130501 non-null  object \n",
      " 2   participantId      130501 non-null  float64\n",
      " 3   currentMode        130501 non-null  object \n",
      " 4   hungerStatus       130501 non-null  object \n",
      " 5   sleepStatus        130501 non-null  object \n",
      " 6   apartmentId        129278 non-null  float64\n",
      " 7   availableBalance   130501 non-null  float64\n",
      " 8   jobId              130501 non-null  float64\n",
      " 9   financialStatus    130501 non-null  object \n",
      " 10  dailyFoodBudget    130501 non-null  float64\n",
      " 11  weeklyExtraBudget  130501 non-null  float64\n",
      "dtypes: float64(6), object(6)\n",
      "memory usage: 12.9+ MB\n"
     ]
    }
   ],
   "source": [
    "participant_235_816.info()"
   ]
  },
  {
   "cell_type": "code",
   "execution_count": 38,
   "metadata": {},
   "outputs": [
    {
     "name": "stderr",
     "output_type": "stream",
     "text": [
      "<ipython-input-38-3f1c1d194ddc>:1: SettingWithCopyWarning: \n",
      "A value is trying to be set on a copy of a slice from a DataFrame.\n",
      "Try using .loc[row_indexer,col_indexer] = value instead\n",
      "\n",
      "See the caveats in the documentation: https://pandas.pydata.org/pandas-docs/stable/user_guide/indexing.html#returning-a-view-versus-a-copy\n",
      "  participant_235_816['timestamp'] = pd.to_datetime(participant_235_816[\"timestamp\"])\n",
      "<ipython-input-38-3f1c1d194ddc>:4: SettingWithCopyWarning: \n",
      "A value is trying to be set on a copy of a slice from a DataFrame.\n",
      "Try using .loc[row_indexer,col_indexer] = value instead\n",
      "\n",
      "See the caveats in the documentation: https://pandas.pydata.org/pandas-docs/stable/user_guide/indexing.html#returning-a-view-versus-a-copy\n",
      "  participant_235_816['date'] = participant_235_816['timestamp'].dt.strftime('%Y-%m-%d')\n"
     ]
    }
   ],
   "source": [
    "participant_235_816['timestamp'] = pd.to_datetime(participant_235_816[\"timestamp\"])\n",
    "\n",
    "# Estrazione della parte della data (anno-mese-giorno)\n",
    "participant_235_816['date'] = participant_235_816['timestamp'].dt.strftime('%Y-%m-%d')"
   ]
  },
  {
   "cell_type": "code",
   "execution_count": 39,
   "metadata": {},
   "outputs": [
    {
     "name": "stdout",
     "output_type": "stream",
     "text": [
      "<class 'pandas.core.frame.DataFrame'>\n",
      "Int64Index: 130501 entries, 235 to 113923664\n",
      "Data columns (total 13 columns):\n",
      " #   Column             Non-Null Count   Dtype              \n",
      "---  ------             --------------   -----              \n",
      " 0   timestamp          130501 non-null  datetime64[ns, UTC]\n",
      " 1   currentLocation    130501 non-null  object             \n",
      " 2   participantId      130501 non-null  float64            \n",
      " 3   currentMode        130501 non-null  object             \n",
      " 4   hungerStatus       130501 non-null  object             \n",
      " 5   sleepStatus        130501 non-null  object             \n",
      " 6   apartmentId        129278 non-null  float64            \n",
      " 7   availableBalance   130501 non-null  float64            \n",
      " 8   jobId              130501 non-null  float64            \n",
      " 9   financialStatus    130501 non-null  object             \n",
      " 10  dailyFoodBudget    130501 non-null  float64            \n",
      " 11  weeklyExtraBudget  130501 non-null  float64            \n",
      " 12  date               130501 non-null  object             \n",
      "dtypes: datetime64[ns, UTC](1), float64(6), object(6)\n",
      "memory usage: 13.9+ MB\n"
     ]
    }
   ],
   "source": [
    "participant_235_816.info()"
   ]
  },
  {
   "cell_type": "code",
   "execution_count": 40,
   "metadata": {},
   "outputs": [],
   "source": [
    "participant_235_816 = participant_235_816[['participantId', 'timestamp', 'currentMode', 'currentLocation', 'date', 'hungerStatus', 'sleepStatus']]"
   ]
  },
  {
   "cell_type": "code",
   "execution_count": 41,
   "metadata": {},
   "outputs": [],
   "source": [
    "participant_235_816.to_csv(\"participant_235_816.csv\", index=False)"
   ]
  },
  {
   "cell_type": "code",
   "execution_count": null,
   "metadata": {},
   "outputs": [],
   "source": []
  },
  {
   "cell_type": "code",
   "execution_count": null,
   "metadata": {},
   "outputs": [],
   "source": []
  },
  {
   "cell_type": "code",
   "execution_count": null,
   "metadata": {},
   "outputs": [],
   "source": []
  },
  {
   "cell_type": "code",
   "execution_count": null,
   "metadata": {},
   "outputs": [],
   "source": []
  },
  {
   "cell_type": "code",
   "execution_count": null,
   "metadata": {},
   "outputs": [],
   "source": []
  },
  {
   "cell_type": "code",
   "execution_count": null,
   "metadata": {},
   "outputs": [],
   "source": []
  },
  {
   "cell_type": "code",
   "execution_count": null,
   "metadata": {},
   "outputs": [],
   "source": []
  },
  {
   "cell_type": "code",
   "execution_count": null,
   "metadata": {},
   "outputs": [],
   "source": []
  },
  {
   "cell_type": "code",
   "execution_count": null,
   "metadata": {},
   "outputs": [],
   "source": []
  },
  {
   "cell_type": "code",
   "execution_count": null,
   "metadata": {},
   "outputs": [],
   "source": []
  },
  {
   "cell_type": "code",
   "execution_count": null,
   "metadata": {},
   "outputs": [],
   "source": []
  },
  {
   "cell_type": "code",
   "execution_count": null,
   "metadata": {},
   "outputs": [],
   "source": []
  },
  {
   "cell_type": "code",
   "execution_count": null,
   "metadata": {},
   "outputs": [],
   "source": []
  },
  {
   "cell_type": "code",
   "execution_count": null,
   "metadata": {},
   "outputs": [],
   "source": []
  },
  {
   "cell_type": "code",
   "execution_count": null,
   "metadata": {},
   "outputs": [],
   "source": []
  },
  {
   "cell_type": "code",
   "execution_count": null,
   "metadata": {},
   "outputs": [],
   "source": []
  },
  {
   "cell_type": "code",
   "execution_count": null,
   "metadata": {},
   "outputs": [],
   "source": []
  }
 ],
 "metadata": {
  "kernelspec": {
   "display_name": "base",
   "language": "python",
   "name": "python3"
  },
  "language_info": {
   "codemirror_mode": {
    "name": "ipython",
    "version": 3
   },
   "file_extension": ".py",
   "mimetype": "text/x-python",
   "name": "python",
   "nbconvert_exporter": "python",
   "pygments_lexer": "ipython3",
   "version": "3.8.8"
  }
 },
 "nbformat": 4,
 "nbformat_minor": 2
}
